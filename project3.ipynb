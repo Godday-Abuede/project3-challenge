{
 "cells": [
  {
   "cell_type": "code",
   "execution_count": 6,
   "metadata": {},
   "outputs": [
    {
     "ename": "ModuleNotFoundError",
     "evalue": "No module named 'yfinance'",
     "output_type": "error",
     "traceback": [
      "\u001b[1;31m---------------------------------------------------------------------------\u001b[0m",
      "\u001b[1;31mModuleNotFoundError\u001b[0m                       Traceback (most recent call last)",
      "\u001b[1;32m<ipython-input-6-8fba7b61a4de>\u001b[0m in \u001b[0;36m<module>\u001b[1;34m\u001b[0m\n\u001b[1;32m----> 1\u001b[1;33m \u001b[1;32mimport\u001b[0m \u001b[0myfinance\u001b[0m \u001b[1;32mas\u001b[0m \u001b[0myf\u001b[0m\u001b[1;33m\u001b[0m\u001b[1;33m\u001b[0m\u001b[0m\n\u001b[0m\u001b[0;32m      2\u001b[0m \u001b[1;32mimport\u001b[0m \u001b[0mmatplotlib\u001b[0m\u001b[1;33m.\u001b[0m\u001b[0mpyplot\u001b[0m \u001b[1;32mas\u001b[0m \u001b[0mplt\u001b[0m\u001b[1;33m\u001b[0m\u001b[1;33m\u001b[0m\u001b[0m\n\u001b[0;32m      3\u001b[0m \u001b[1;32mimport\u001b[0m \u001b[0mnumpy\u001b[0m \u001b[1;32mas\u001b[0m \u001b[0mnp\u001b[0m\u001b[1;33m\u001b[0m\u001b[1;33m\u001b[0m\u001b[0m\n\u001b[0;32m      4\u001b[0m \u001b[1;32mimport\u001b[0m \u001b[0mpandas\u001b[0m \u001b[1;32mas\u001b[0m \u001b[0mpd\u001b[0m\u001b[1;33m\u001b[0m\u001b[1;33m\u001b[0m\u001b[0m\n\u001b[0;32m      5\u001b[0m \u001b[1;32mimport\u001b[0m \u001b[0mstring\u001b[0m \u001b[1;32mas\u001b[0m \u001b[0mst\u001b[0m\u001b[1;33m\u001b[0m\u001b[1;33m\u001b[0m\u001b[0m\n",
      "\u001b[1;31mModuleNotFoundError\u001b[0m: No module named 'yfinance'"
     ]
    }
   ],
   "source": [
    "import yfinance as yf\n",
    "import matplotlib.pyplot as plt\n",
    "import numpy as np\n",
    "import pandas as pd\n",
    "import string as st\n",
    "from sklearn.svm import SVR\n",
    "import sys\n",
    "from sklearn.metrics import mean_squared_error, r2_score"
   ]
  },
  {
   "cell_type": "code",
   "execution_count": 7,
   "metadata": {},
   "outputs": [
    {
     "name": "stdout",
     "output_type": "stream",
     "text": [
      "Enter stock ticker: \n",
      "Enter startdate in yyyy-mm-dd format or leave blank: \n",
      "Enter enddate in yyyy-mm-dd format or leave blank: \n"
     ]
    },
    {
     "ename": "NameError",
     "evalue": "name 'yf' is not defined",
     "output_type": "error",
     "traceback": [
      "\u001b[1;31m---------------------------------------------------------------------------\u001b[0m",
      "\u001b[1;31mNameError\u001b[0m                                 Traceback (most recent call last)",
      "\u001b[1;32m<ipython-input-7-4f1a1a1831c8>\u001b[0m in \u001b[0;36m<module>\u001b[1;34m\u001b[0m\n\u001b[0;32m      2\u001b[0m \u001b[0mstart\u001b[0m \u001b[1;33m=\u001b[0m \u001b[0minput\u001b[0m\u001b[1;33m(\u001b[0m\u001b[1;34m'Enter startdate in yyyy-mm-dd format or leave blank: '\u001b[0m\u001b[1;33m)\u001b[0m\u001b[1;33m\u001b[0m\u001b[1;33m\u001b[0m\u001b[0m\n\u001b[0;32m      3\u001b[0m \u001b[0mend\u001b[0m \u001b[1;33m=\u001b[0m \u001b[0minput\u001b[0m\u001b[1;33m(\u001b[0m\u001b[1;34m'Enter enddate in yyyy-mm-dd format or leave blank: '\u001b[0m\u001b[1;33m)\u001b[0m\u001b[1;33m\u001b[0m\u001b[1;33m\u001b[0m\u001b[0m\n\u001b[1;32m----> 4\u001b[1;33m \u001b[0mdata\u001b[0m \u001b[1;33m=\u001b[0m \u001b[0myf\u001b[0m\u001b[1;33m.\u001b[0m\u001b[0mdownload\u001b[0m\u001b[1;33m(\u001b[0m\u001b[0mticker\u001b[0m\u001b[1;33m,\u001b[0m\u001b[0mstart\u001b[0m\u001b[1;33m=\u001b[0m\u001b[0mstart\u001b[0m\u001b[1;33m,\u001b[0m \u001b[0mend\u001b[0m\u001b[1;33m=\u001b[0m\u001b[0mend\u001b[0m\u001b[1;33m)\u001b[0m\u001b[1;33m\u001b[0m\u001b[1;33m\u001b[0m\u001b[0m\n\u001b[0m\u001b[0;32m      5\u001b[0m \u001b[0mdata\u001b[0m\u001b[1;33m\u001b[0m\u001b[1;33m\u001b[0m\u001b[0m\n",
      "\u001b[1;31mNameError\u001b[0m: name 'yf' is not defined"
     ]
    }
   ],
   "source": [
    "ticker = input('Enter stock ticker: ')\n",
    "start = input('Enter startdate in yyyy-mm-dd format or leave blank: ')\n",
    "end = input('Enter enddate in yyyy-mm-dd format or leave blank: ')\n",
    "data = yf.download(ticker,start=start, end=end)\n",
    "data"
   ]
  },
  {
   "cell_type": "code",
   "execution_count": 8,
   "metadata": {},
   "outputs": [
    {
     "ename": "NameError",
     "evalue": "name 'plt' is not defined",
     "output_type": "error",
     "traceback": [
      "\u001b[1;31m---------------------------------------------------------------------------\u001b[0m",
      "\u001b[1;31mNameError\u001b[0m                                 Traceback (most recent call last)",
      "\u001b[1;32m<ipython-input-8-b8a94c059da8>\u001b[0m in \u001b[0;36m<module>\u001b[1;34m\u001b[0m\n\u001b[0;32m      1\u001b[0m \u001b[1;31m# Visualised the adjusted closing price history since 2010\u001b[0m\u001b[1;33m\u001b[0m\u001b[1;33m\u001b[0m\u001b[1;33m\u001b[0m\u001b[0m\n\u001b[1;32m----> 2\u001b[1;33m \u001b[0mplt\u001b[0m\u001b[1;33m.\u001b[0m\u001b[0mfigure\u001b[0m\u001b[1;33m(\u001b[0m\u001b[0mfigsize\u001b[0m\u001b[1;33m=\u001b[0m\u001b[1;33m(\u001b[0m\u001b[1;36m10\u001b[0m\u001b[1;33m,\u001b[0m\u001b[1;36m6\u001b[0m\u001b[1;33m)\u001b[0m\u001b[1;33m)\u001b[0m\u001b[1;33m\u001b[0m\u001b[1;33m\u001b[0m\u001b[0m\n\u001b[0m\u001b[0;32m      3\u001b[0m \u001b[0mplt\u001b[0m\u001b[1;33m.\u001b[0m\u001b[0mtitle\u001b[0m\u001b[1;33m(\u001b[0m\u001b[1;34m\"Adjusted Close Price History\"\u001b[0m\u001b[1;33m)\u001b[0m\u001b[1;33m\u001b[0m\u001b[1;33m\u001b[0m\u001b[0m\n\u001b[0;32m      4\u001b[0m \u001b[0mplt\u001b[0m\u001b[1;33m.\u001b[0m\u001b[0mplot\u001b[0m\u001b[1;33m(\u001b[0m\u001b[0mdata\u001b[0m\u001b[1;33m[\u001b[0m\u001b[1;34m'Adj Close'\u001b[0m\u001b[1;33m]\u001b[0m\u001b[1;33m)\u001b[0m\u001b[1;33m\u001b[0m\u001b[1;33m\u001b[0m\u001b[0m\n\u001b[0;32m      5\u001b[0m \u001b[0mplt\u001b[0m\u001b[1;33m.\u001b[0m\u001b[0mxlabel\u001b[0m\u001b[1;33m(\u001b[0m\u001b[1;34m'Dates'\u001b[0m\u001b[1;33m)\u001b[0m\u001b[1;33m\u001b[0m\u001b[1;33m\u001b[0m\u001b[0m\n",
      "\u001b[1;31mNameError\u001b[0m: name 'plt' is not defined"
     ]
    }
   ],
   "source": [
    "\n",
    "# Visualised the adjusted closing price history since 2010 \n",
    "plt.figure(figsize=(10,6))\n",
    "plt.title(\"Adjusted Close Price History\")\n",
    "plt.plot(data['Adj Close']) \n",
    "plt.xlabel('Dates')\n",
    "plt.ylabel('Adjusted Closing Price USD($)')\n",
    "plt.savefig(\"Images/adjustedclosingprice-model.png\")\n",
    "plt.show()\n"
   ]
  },
  {
   "cell_type": "code",
   "execution_count": 6,
   "metadata": {},
   "outputs": [
    {
     "data": {
      "text/plain": [
       "['Open', 'High', 'Low', 'Close', 'Adj Close', 'Volume']"
      ]
     },
     "execution_count": 6,
     "metadata": {},
     "output_type": "execute_result"
    }
   ],
   "source": [
    "# check column whether date column is also the index\n",
    "column_list = list(data)\n",
    "column_list"
   ]
  },
  {
   "cell_type": "code",
   "execution_count": 3,
   "metadata": {},
   "outputs": [],
   "source": [
    "# Save df to CSV to remove date column from being index column\n",
    "data.to_csv('data.csv', index=True)\n",
    "\n",
    "html_data = data.to_html()\n",
    "data.to_html('data.html')"
   ]
  },
  {
   "cell_type": "code",
   "execution_count": 7,
   "metadata": {},
   "outputs": [],
   "source": [
    "\n",
    "# Read the data from CSV into pandas dataframe\n",
    "data= pd.read_csv(\"data.csv\")\n"
   ]
  },
  {
   "cell_type": "code",
   "execution_count": 9,
   "metadata": {},
   "outputs": [],
   "source": [
    "# create a list to represent X and y variables(x=dependent i.e:dates and y=independent=open_prices)\n",
    "dates = []\n",
    "prices = []\n"
   ]
  },
  {
   "cell_type": "code",
   "execution_count": 10,
   "metadata": {},
   "outputs": [
    {
     "data": {
      "text/plain": [
       "(22, 7)"
      ]
     },
     "execution_count": 10,
     "metadata": {},
     "output_type": "execute_result"
    }
   ],
   "source": [
    "# Check how many rows and column is the df\n",
    "data.shape"
   ]
  },
  {
   "cell_type": "code",
   "execution_count": 11,
   "metadata": {},
   "outputs": [
    {
     "data": {
      "text/html": [
       "<div>\n",
       "<style scoped>\n",
       "    .dataframe tbody tr th:only-of-type {\n",
       "        vertical-align: middle;\n",
       "    }\n",
       "\n",
       "    .dataframe tbody tr th {\n",
       "        vertical-align: top;\n",
       "    }\n",
       "\n",
       "    .dataframe thead th {\n",
       "        text-align: right;\n",
       "    }\n",
       "</style>\n",
       "<table border=\"1\" class=\"dataframe\">\n",
       "  <thead>\n",
       "    <tr style=\"text-align: right;\">\n",
       "      <th></th>\n",
       "      <th>Date</th>\n",
       "      <th>Open</th>\n",
       "      <th>High</th>\n",
       "      <th>Low</th>\n",
       "      <th>Close</th>\n",
       "      <th>Adj Close</th>\n",
       "      <th>Volume</th>\n",
       "    </tr>\n",
       "  </thead>\n",
       "  <tbody>\n",
       "    <tr>\n",
       "      <td>21</td>\n",
       "      <td>2020-03-31</td>\n",
       "      <td>1964.349976</td>\n",
       "      <td>1993.02002</td>\n",
       "      <td>1944.01001</td>\n",
       "      <td>1949.719971</td>\n",
       "      <td>1949.719971</td>\n",
       "      <td>5123600</td>\n",
       "    </tr>\n",
       "  </tbody>\n",
       "</table>\n",
       "</div>"
      ],
      "text/plain": [
       "          Date         Open        High         Low        Close    Adj Close  \\\n",
       "21  2020-03-31  1964.349976  1993.02002  1944.01001  1949.719971  1949.719971   \n",
       "\n",
       "     Volume  \n",
       "21  5123600  "
      ]
     },
     "execution_count": 11,
     "metadata": {},
     "output_type": "execute_result"
    }
   ],
   "source": [
    "# This is the last row of the dataset which the models will be tested on\n",
    "data.tail(1)"
   ]
  },
  {
   "cell_type": "code",
   "execution_count": 12,
   "metadata": {},
   "outputs": [],
   "source": [
    "data = data.head(len(data)-1)"
   ]
  },
  {
   "cell_type": "code",
   "execution_count": 13,
   "metadata": {},
   "outputs": [
    {
     "data": {
      "text/plain": [
       "(21, 7)"
      ]
     },
     "execution_count": 13,
     "metadata": {},
     "output_type": "execute_result"
    }
   ],
   "source": [
    "data.shape"
   ]
  },
  {
   "cell_type": "code",
   "execution_count": 14,
   "metadata": {},
   "outputs": [],
   "source": [
    "data_dates = data.loc[:,'Date']\n",
    "data_open = data.loc[:,'Open']"
   ]
  },
  {
   "cell_type": "code",
   "execution_count": 15,
   "metadata": {},
   "outputs": [],
   "source": [
    "for date in data_dates:\n",
    "    dates.append([int(date.split('-')[2])])\n",
    "for open_price in data_open:\n",
    "    prices.append(float(open_price))"
   ]
  },
  {
   "cell_type": "code",
   "execution_count": 16,
   "metadata": {},
   "outputs": [
    {
     "name": "stdout",
     "output_type": "stream",
     "text": [
      "[[2], [3], [4], [5], [6], [9], [10], [11], [12], [13], [16], [17], [18], [19], [20], [23], [24], [25], [26], [27], [30]] [1906.489990234375, 1975.3699951171875, 1946.5699462890625, 1933.0, 1875.0, 1773.8599853515625, 1870.8800048828125, 1857.8499755859373, 1721.97998046875, 1755.0, 1641.510009765625, 1775.469970703125, 1750.0, 1860.0, 1926.31005859375, 1827.75, 1951.5, 1920.68994140625, 1902.0, 1930.8599853515625, 1922.8299560546875]\n"
     ]
    }
   ],
   "source": [
    "print(dates,prices)\n"
   ]
  },
  {
   "cell_type": "code",
   "execution_count": 17,
   "metadata": {},
   "outputs": [],
   "source": [
    "# This is the function to make the prediction with 3 support vector regression models\n",
    "def predict_prices(dates,prices, x):\n",
    "    svr_rbf = SVR(kernel='rbf', C=100, gamma=0.1, epsilon=.1)\n",
    "    svr_lin = SVR(kernel='linear', C=100, gamma='scale')\n",
    "    svr_poly = SVR(kernel='poly', C=100, gamma='scale', degree=3, epsilon=.1,\n",
    "               coef0=1)\n",
    "    \n",
    "#Train the models on dates and prices   \n",
    "    svr_lin.fit(dates,prices)\n",
    "    svr_poly.fit(dates,prices)\n",
    "    svr_rbf.fit(dates,prices)\n",
    "# Plot the 3 models and find the best fit \n",
    "    plt.scatter(dates, prices, color ='black', label = 'Data')\n",
    "    plt.plot(dates,svr_lin.predict(dates), color = 'green', label = 'Linear Model')\n",
    "    plt.plot(dates,svr_poly.predict(dates),color = 'blue', label = 'Polynomial Model')\n",
    "    plt.plot(dates,svr_rbf.predict(dates),color = 'red', label = 'RBF Model')\n",
    "    plt.xlabel('date')\n",
    "    plt.ylabel('price (USD$)')\n",
    "    plt.title('support Vector regression')\n",
    "    plt.legend()\n",
    "    plt.savefig(\"Images/3SVR-models.png\")\n",
    "    plt.show\n",
    "    return svr_lin.predict(x)[0],svr_rbf.predict(x)[0],svr_poly.predict(x)[0]\n",
    "\n",
    "\n"
   ]
  },
  {
   "cell_type": "code",
   "execution_count": 1,
   "metadata": {},
   "outputs": [
    {
     "ename": "NameError",
     "evalue": "name 'predict_prices' is not defined",
     "output_type": "error",
     "traceback": [
      "\u001b[1;31m---------------------------------------------------------------------------\u001b[0m",
      "\u001b[1;31mNameError\u001b[0m                                 Traceback (most recent call last)",
      "\u001b[1;32m<ipython-input-1-f2827393c39c>\u001b[0m in \u001b[0;36m<module>\u001b[1;34m\u001b[0m\n\u001b[0;32m      1\u001b[0m \u001b[1;31m# Predict day 31st of march Amazon stock price\u001b[0m\u001b[1;33m\u001b[0m\u001b[1;33m\u001b[0m\u001b[1;33m\u001b[0m\u001b[0m\n\u001b[1;32m----> 2\u001b[1;33m \u001b[0mpredicted_price\u001b[0m \u001b[1;33m=\u001b[0m \u001b[0mpredict_prices\u001b[0m\u001b[1;33m(\u001b[0m\u001b[0mdates\u001b[0m\u001b[1;33m,\u001b[0m \u001b[0mprices\u001b[0m\u001b[1;33m,\u001b[0m\u001b[1;33m[\u001b[0m\u001b[1;33m[\u001b[0m\u001b[1;36m32\u001b[0m\u001b[1;33m]\u001b[0m\u001b[1;33m]\u001b[0m\u001b[1;33m)\u001b[0m\u001b[1;33m\u001b[0m\u001b[1;33m\u001b[0m\u001b[0m\n\u001b[0m\u001b[0;32m      3\u001b[0m \u001b[0mprint\u001b[0m\u001b[1;33m(\u001b[0m\u001b[0mpredicted_price\u001b[0m\u001b[1;33m)\u001b[0m\u001b[1;33m\u001b[0m\u001b[1;33m\u001b[0m\u001b[0m\n",
      "\u001b[1;31mNameError\u001b[0m: name 'predict_prices' is not defined"
     ]
    }
   ],
   "source": [
    "# Predict day 31st of march Amazon stock price\n",
    "predicted_price = predict_prices(dates, prices,[[32]])\n",
    "print(predicted_price)"
   ]
  },
  {
   "cell_type": "code",
   "execution_count": 19,
   "metadata": {},
   "outputs": [],
   "source": [
    "def predict_prices(dates,prices, x):\n",
    "    svr_rbf = SVR(kernel='rbf', C=100, gamma=0.1, epsilon=.1)\n",
    "    svr_rbf.fit(dates,prices)\n",
    "    plt.scatter(dates, prices, color = 'black', label = 'Data')\n",
    "    plt.plot(dates,svr_rbf.predict(dates),color = 'red', label = 'RBF Model')\n",
    "    plt.title('SVR-Radial Basis Function (RBF) Model')\n",
    "    plt.xlabel('date')\n",
    "    plt.ylabel('price (USD$)')\n",
    "    plt.legend()\n",
    "    plt.savefig(\"Images/RBF-model.png\")\n",
    "    plt.show()\n",
    "    return svr_rbf.predict(x)[0]\n"
   ]
  },
  {
   "cell_type": "code",
   "execution_count": 20,
   "metadata": {},
   "outputs": [
    {
     "name": "stdout",
     "output_type": "stream",
     "text": [
      "RBF regression R-square =  0.759871821406584\n"
     ]
    }
   ],
   "source": [
    "svr_rbf = SVR(kernel='rbf', C=100, gamma=0.1, epsilon=.1)\n",
    "svr_rbf.fit(dates,prices)\n",
    "R_square= svr_rbf.score(dates, prices)\n",
    "print(\"RBF regression R-square = \",R_square)"
   ]
  },
  {
   "cell_type": "code",
   "execution_count": 21,
   "metadata": {
    "scrolled": true
   },
   "outputs": [
    {
     "data": {
      "image/png": "[encoded data removed]",
      "text/plain": [
       "<Figure size 432x288 with 1 Axes>"
      ]
     },
     "metadata": {
      "needs_background": "light"
     },
     "output_type": "display_data"
    },
    {
     "name": "stdout",
     "output_type": "stream",
     "text": [
      "The predicted last day open price: USD$ 1910.508164163097\n"
     ]
    }
   ],
   "source": [
    "predicted_price = predict_prices(dates, prices,[[31]])\n",
    "print(\"The predicted last day open price: USD$\",predicted_price)\n",
    "\n"
   ]
  },
  {
   "cell_type": "code",
   "execution_count": 22,
   "metadata": {},
   "outputs": [],
   "source": [
    "def predict_prices(dates,prices, x):\n",
    "    svr_lin = SVR(kernel='linear', C=100, gamma='scale')\n",
    "    \n",
    "#Train the models on dates and prices   \n",
    "    svr_lin.fit(dates,prices)\n",
    "    plt.scatter(dates, prices, color = 'black', label = 'Data')\n",
    "    plt.plot(dates,svr_lin.predict(dates), color = 'magenta', label = 'Linear Model')\n",
    "    plt.title('SVR Linear Regression Model')\n",
    "    plt.xlabel('date')\n",
    "    plt.ylabel('price (USD$)')\n",
    "    plt.legend()\n",
    "    plt.savefig(\"Images/Linear-model.png\")\n",
    "    plt.show()\n",
    "    return svr_lin.predict(x)[0]\n",
    "\n",
    "    "
   ]
  },
  {
   "cell_type": "code",
   "execution_count": 23,
   "metadata": {},
   "outputs": [
    {
     "name": "stdout",
     "output_type": "stream",
     "text": [
      "Linear regression R-square =  -0.12102918330413459\n"
     ]
    }
   ],
   "source": [
    "svr_lin = SVR(kernel='linear', C=100, gamma='scale')\n",
    "svr_lin.fit(dates,prices)\n",
    "R_square= svr_lin.score(dates, prices)\n",
    "print(\"Linear regression R-square = \",R_square)"
   ]
  },
  {
   "cell_type": "code",
   "execution_count": 24,
   "metadata": {},
   "outputs": [
    {
     "data": {
      "image/png": "[encoded data removed]",
      "text/plain": [
       "<Figure size 432x288 with 1 Axes>"
      ]
     },
     "metadata": {
      "needs_background": "light"
     },
     "output_type": "display_data"
    },
    {
     "name": "stdout",
     "output_type": "stream",
     "text": [
      "The predicted last day open price: USD$ 1908.6500000000322\n"
     ]
    }
   ],
   "source": [
    "\n",
    "predicted_price = predict_prices(dates, prices,[[31]])\n",
    "print(\"The predicted last day open price: USD$\",predicted_price)"
   ]
  },
  {
   "cell_type": "code",
   "execution_count": 25,
   "metadata": {},
   "outputs": [],
   "source": [
    "def predict_prices(dates,prices, x):\n",
    "    svr_poly = SVR(kernel='poly', C=100, gamma='scale', degree=3, epsilon=.1,\n",
    "               coef0=1)\n",
    "    \n",
    "#Train the models on dates and prices   \n",
    "    svr_poly.fit(dates,prices)\n",
    "    plt.scatter(dates, prices, color = 'black', label = 'Data')\n",
    "    plt.plot(dates,svr_poly.predict(dates),color = 'blue', label = 'Polynomial Model')\n",
    "    plt.title('SVR-Polynomial Model')\n",
    "    plt.xlabel('date')\n",
    "    plt.ylabel('price USD$')\n",
    "    plt.legend()\n",
    "    plt.savefig(\"Images/Polynomial-model.png\")\n",
    "    plt.show()\n",
    "    return svr_poly.predict(x)[0]"
   ]
  },
  {
   "cell_type": "code",
   "execution_count": 26,
   "metadata": {},
   "outputs": [
    {
     "data": {
      "image/png": "[encoded data removed]",
      "text/plain": [
       "<Figure size 432x288 with 1 Axes>"
      ]
     },
     "metadata": {
      "needs_background": "light"
     },
     "output_type": "display_data"
    },
    {
     "name": "stdout",
     "output_type": "stream",
     "text": [
      "The predicted last day open price: USD$ 2096.386910981095\n"
     ]
    }
   ],
   "source": [
    "\n",
    "predicted_price = predict_prices(dates, prices,[[31]])\n",
    "print(\"The predicted last day open price: USD$\",predicted_price)\n"
   ]
  },
  {
   "cell_type": "code",
   "execution_count": 27,
   "metadata": {},
   "outputs": [
    {
     "name": "stdout",
     "output_type": "stream",
     "text": [
      "Polynomial regression R-square =  0.41375895743467533\n"
     ]
    }
   ],
   "source": [
    "svr_poly = SVR(kernel='poly', C=100, gamma='scale', degree=3, epsilon=.1,\n",
    "               coef0=1)\n",
    "svr_poly.fit(dates,prices)\n",
    "R_square= svr_poly.score(dates, prices)\n",
    "print(\"Polynomial regression R-square = \",R_square)\n"
   ]
  },
  {
   "cell_type": "code",
   "execution_count": null,
   "metadata": {},
   "outputs": [],
   "source": []
  }
 ],
 "metadata": {
  "kernelspec": {
   "display_name": "Python 3",
   "language": "python",
   "name": "python3"
  },
  "language_info": {
   "codemirror_mode": {
    "name": "ipython",
    "version": 3
   },
   "file_extension": ".py",
   "mimetype": "text/x-python",
   "name": "python",
   "nbconvert_exporter": "python",
   "pygments_lexer": "ipython3",
   "version": "3.7.3"
  }
 },
 "nbformat": 4,
 "nbformat_minor": 2
}
