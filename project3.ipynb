{
 "cells": [
  {
   "cell_type": "code",
   "execution_count": 1,
   "metadata": {},
   "outputs": [],
   "source": [
    "import yfinance as yf\n",
    "import matplotlib.pyplot as plt\n",
    "import numpy as np\n",
    "import pandas as pd\n",
    "from sklearn.svm import SVR\n",
    "from sklearn.metrics import mean_squared_error, r2_score"
   ]
  },
  {
   "cell_type": "code",
   "execution_count": 2,
   "metadata": {},
   "outputs": [
    {
     "name": "stdout",
     "output_type": "stream",
     "text": [
      "Enter stock ticker: AMZN\n",
      "Enter startdate in yyyy-mm-dd format or leave blank: 2020-03-01\n",
      "Enter enddate in yyyy-mm-dd format or leave blank: 2020-04-01\n",
      "[*********************100%***********************]  1 of 1 completed\n"
     ]
    },
    {
     "data": {
      "text/html": [
       "<div>\n",
       "<style scoped>\n",
       "    .dataframe tbody tr th:only-of-type {\n",
       "        vertical-align: middle;\n",
       "    }\n",
       "\n",
       "    .dataframe tbody tr th {\n",
       "        vertical-align: top;\n",
       "    }\n",
       "\n",
       "    .dataframe thead th {\n",
       "        text-align: right;\n",
       "    }\n",
       "</style>\n",
       "<table border=\"1\" class=\"dataframe\">\n",
       "  <thead>\n",
       "    <tr style=\"text-align: right;\">\n",
       "      <th></th>\n",
       "      <th>Open</th>\n",
       "      <th>High</th>\n",
       "      <th>Low</th>\n",
       "      <th>Close</th>\n",
       "      <th>Adj Close</th>\n",
       "      <th>Volume</th>\n",
       "    </tr>\n",
       "    <tr>\n",
       "      <th>Date</th>\n",
       "      <th></th>\n",
       "      <th></th>\n",
       "      <th></th>\n",
       "      <th></th>\n",
       "      <th></th>\n",
       "      <th></th>\n",
       "    </tr>\n",
       "  </thead>\n",
       "  <tbody>\n",
       "    <tr>\n",
       "      <td>2020-03-02</td>\n",
       "      <td>1906.489990</td>\n",
       "      <td>1954.510010</td>\n",
       "      <td>1870.000000</td>\n",
       "      <td>1953.949951</td>\n",
       "      <td>1953.949951</td>\n",
       "      <td>6761700</td>\n",
       "    </tr>\n",
       "    <tr>\n",
       "      <td>2020-03-03</td>\n",
       "      <td>1975.369995</td>\n",
       "      <td>1996.329956</td>\n",
       "      <td>1888.089966</td>\n",
       "      <td>1908.989990</td>\n",
       "      <td>1908.989990</td>\n",
       "      <td>7534500</td>\n",
       "    </tr>\n",
       "    <tr>\n",
       "      <td>2020-03-04</td>\n",
       "      <td>1946.569946</td>\n",
       "      <td>1978.000000</td>\n",
       "      <td>1922.000000</td>\n",
       "      <td>1975.829956</td>\n",
       "      <td>1975.829956</td>\n",
       "      <td>4772900</td>\n",
       "    </tr>\n",
       "    <tr>\n",
       "      <td>2020-03-05</td>\n",
       "      <td>1933.000000</td>\n",
       "      <td>1960.719971</td>\n",
       "      <td>1910.000000</td>\n",
       "      <td>1924.030029</td>\n",
       "      <td>1924.030029</td>\n",
       "      <td>4748200</td>\n",
       "    </tr>\n",
       "    <tr>\n",
       "      <td>2020-03-06</td>\n",
       "      <td>1875.000000</td>\n",
       "      <td>1910.869995</td>\n",
       "      <td>1869.500000</td>\n",
       "      <td>1901.089966</td>\n",
       "      <td>1901.089966</td>\n",
       "      <td>5273600</td>\n",
       "    </tr>\n",
       "    <tr>\n",
       "      <td>2020-03-09</td>\n",
       "      <td>1773.859985</td>\n",
       "      <td>1862.770020</td>\n",
       "      <td>1761.290039</td>\n",
       "      <td>1800.609985</td>\n",
       "      <td>1800.609985</td>\n",
       "      <td>7813200</td>\n",
       "    </tr>\n",
       "    <tr>\n",
       "      <td>2020-03-10</td>\n",
       "      <td>1870.880005</td>\n",
       "      <td>1894.270020</td>\n",
       "      <td>1818.170044</td>\n",
       "      <td>1891.819946</td>\n",
       "      <td>1891.819946</td>\n",
       "      <td>7133300</td>\n",
       "    </tr>\n",
       "    <tr>\n",
       "      <td>2020-03-11</td>\n",
       "      <td>1857.849976</td>\n",
       "      <td>1871.319946</td>\n",
       "      <td>1801.500000</td>\n",
       "      <td>1820.859985</td>\n",
       "      <td>1820.859985</td>\n",
       "      <td>5624800</td>\n",
       "    </tr>\n",
       "    <tr>\n",
       "      <td>2020-03-12</td>\n",
       "      <td>1721.979980</td>\n",
       "      <td>1765.000000</td>\n",
       "      <td>1675.000000</td>\n",
       "      <td>1676.609985</td>\n",
       "      <td>1676.609985</td>\n",
       "      <td>11346200</td>\n",
       "    </tr>\n",
       "    <tr>\n",
       "      <td>2020-03-13</td>\n",
       "      <td>1755.000000</td>\n",
       "      <td>1786.310059</td>\n",
       "      <td>1680.619995</td>\n",
       "      <td>1785.000000</td>\n",
       "      <td>1785.000000</td>\n",
       "      <td>8809700</td>\n",
       "    </tr>\n",
       "    <tr>\n",
       "      <td>2020-03-16</td>\n",
       "      <td>1641.510010</td>\n",
       "      <td>1759.449951</td>\n",
       "      <td>1626.030029</td>\n",
       "      <td>1689.150024</td>\n",
       "      <td>1689.150024</td>\n",
       "      <td>8917300</td>\n",
       "    </tr>\n",
       "    <tr>\n",
       "      <td>2020-03-17</td>\n",
       "      <td>1775.469971</td>\n",
       "      <td>1857.780029</td>\n",
       "      <td>1689.239990</td>\n",
       "      <td>1807.839966</td>\n",
       "      <td>1807.839966</td>\n",
       "      <td>10917100</td>\n",
       "    </tr>\n",
       "    <tr>\n",
       "      <td>2020-03-18</td>\n",
       "      <td>1750.000000</td>\n",
       "      <td>1841.660034</td>\n",
       "      <td>1745.000000</td>\n",
       "      <td>1830.000000</td>\n",
       "      <td>1830.000000</td>\n",
       "      <td>9645200</td>\n",
       "    </tr>\n",
       "    <tr>\n",
       "      <td>2020-03-19</td>\n",
       "      <td>1860.000000</td>\n",
       "      <td>1945.000000</td>\n",
       "      <td>1832.650024</td>\n",
       "      <td>1880.930054</td>\n",
       "      <td>1880.930054</td>\n",
       "      <td>10399900</td>\n",
       "    </tr>\n",
       "    <tr>\n",
       "      <td>2020-03-20</td>\n",
       "      <td>1926.310059</td>\n",
       "      <td>1957.000000</td>\n",
       "      <td>1820.729980</td>\n",
       "      <td>1846.089966</td>\n",
       "      <td>1846.089966</td>\n",
       "      <td>9817900</td>\n",
       "    </tr>\n",
       "    <tr>\n",
       "      <td>2020-03-23</td>\n",
       "      <td>1827.750000</td>\n",
       "      <td>1919.400024</td>\n",
       "      <td>1812.000000</td>\n",
       "      <td>1902.829956</td>\n",
       "      <td>1902.829956</td>\n",
       "      <td>7808500</td>\n",
       "    </tr>\n",
       "    <tr>\n",
       "      <td>2020-03-24</td>\n",
       "      <td>1951.500000</td>\n",
       "      <td>1955.000000</td>\n",
       "      <td>1900.339966</td>\n",
       "      <td>1940.099976</td>\n",
       "      <td>1940.099976</td>\n",
       "      <td>7147100</td>\n",
       "    </tr>\n",
       "    <tr>\n",
       "      <td>2020-03-25</td>\n",
       "      <td>1920.689941</td>\n",
       "      <td>1950.260010</td>\n",
       "      <td>1885.780029</td>\n",
       "      <td>1885.839966</td>\n",
       "      <td>1885.839966</td>\n",
       "      <td>6479100</td>\n",
       "    </tr>\n",
       "    <tr>\n",
       "      <td>2020-03-26</td>\n",
       "      <td>1902.000000</td>\n",
       "      <td>1956.489990</td>\n",
       "      <td>1889.290039</td>\n",
       "      <td>1955.489990</td>\n",
       "      <td>1955.489990</td>\n",
       "      <td>6221300</td>\n",
       "    </tr>\n",
       "    <tr>\n",
       "      <td>2020-03-27</td>\n",
       "      <td>1930.859985</td>\n",
       "      <td>1939.790039</td>\n",
       "      <td>1899.920044</td>\n",
       "      <td>1900.099976</td>\n",
       "      <td>1900.099976</td>\n",
       "      <td>5387900</td>\n",
       "    </tr>\n",
       "    <tr>\n",
       "      <td>2020-03-30</td>\n",
       "      <td>1922.829956</td>\n",
       "      <td>1973.630005</td>\n",
       "      <td>1912.339966</td>\n",
       "      <td>1963.949951</td>\n",
       "      <td>1963.949951</td>\n",
       "      <td>6126100</td>\n",
       "    </tr>\n",
       "    <tr>\n",
       "      <td>2020-03-31</td>\n",
       "      <td>1964.349976</td>\n",
       "      <td>1993.020020</td>\n",
       "      <td>1944.010010</td>\n",
       "      <td>1949.719971</td>\n",
       "      <td>1949.719971</td>\n",
       "      <td>5123600</td>\n",
       "    </tr>\n",
       "  </tbody>\n",
       "</table>\n",
       "</div>"
      ],
      "text/plain": [
       "                   Open         High          Low        Close    Adj Close  \\\n",
       "Date                                                                          \n",
       "2020-03-02  1906.489990  1954.510010  1870.000000  1953.949951  1953.949951   \n",
       "2020-03-03  1975.369995  1996.329956  1888.089966  1908.989990  1908.989990   \n",
       "2020-03-04  1946.569946  1978.000000  1922.000000  1975.829956  1975.829956   \n",
       "2020-03-05  1933.000000  1960.719971  1910.000000  1924.030029  1924.030029   \n",
       "2020-03-06  1875.000000  1910.869995  1869.500000  1901.089966  1901.089966   \n",
       "2020-03-09  1773.859985  1862.770020  1761.290039  1800.609985  1800.609985   \n",
       "2020-03-10  1870.880005  1894.270020  1818.170044  1891.819946  1891.819946   \n",
       "2020-03-11  1857.849976  1871.319946  1801.500000  1820.859985  1820.859985   \n",
       "2020-03-12  1721.979980  1765.000000  1675.000000  1676.609985  1676.609985   \n",
       "2020-03-13  1755.000000  1786.310059  1680.619995  1785.000000  1785.000000   \n",
       "2020-03-16  1641.510010  1759.449951  1626.030029  1689.150024  1689.150024   \n",
       "2020-03-17  1775.469971  1857.780029  1689.239990  1807.839966  1807.839966   \n",
       "2020-03-18  1750.000000  1841.660034  1745.000000  1830.000000  1830.000000   \n",
       "2020-03-19  1860.000000  1945.000000  1832.650024  1880.930054  1880.930054   \n",
       "2020-03-20  1926.310059  1957.000000  1820.729980  1846.089966  1846.089966   \n",
       "2020-03-23  1827.750000  1919.400024  1812.000000  1902.829956  1902.829956   \n",
       "2020-03-24  1951.500000  1955.000000  1900.339966  1940.099976  1940.099976   \n",
       "2020-03-25  1920.689941  1950.260010  1885.780029  1885.839966  1885.839966   \n",
       "2020-03-26  1902.000000  1956.489990  1889.290039  1955.489990  1955.489990   \n",
       "2020-03-27  1930.859985  1939.790039  1899.920044  1900.099976  1900.099976   \n",
       "2020-03-30  1922.829956  1973.630005  1912.339966  1963.949951  1963.949951   \n",
       "2020-03-31  1964.349976  1993.020020  1944.010010  1949.719971  1949.719971   \n",
       "\n",
       "              Volume  \n",
       "Date                  \n",
       "2020-03-02   6761700  \n",
       "2020-03-03   7534500  \n",
       "2020-03-04   4772900  \n",
       "2020-03-05   4748200  \n",
       "2020-03-06   5273600  \n",
       "2020-03-09   7813200  \n",
       "2020-03-10   7133300  \n",
       "2020-03-11   5624800  \n",
       "2020-03-12  11346200  \n",
       "2020-03-13   8809700  \n",
       "2020-03-16   8917300  \n",
       "2020-03-17  10917100  \n",
       "2020-03-18   9645200  \n",
       "2020-03-19  10399900  \n",
       "2020-03-20   9817900  \n",
       "2020-03-23   7808500  \n",
       "2020-03-24   7147100  \n",
       "2020-03-25   6479100  \n",
       "2020-03-26   6221300  \n",
       "2020-03-27   5387900  \n",
       "2020-03-30   6126100  \n",
       "2020-03-31   5123600  "
      ]
     },
     "execution_count": 2,
     "metadata": {},
     "output_type": "execute_result"
    }
   ],
   "source": [
    "ticker = input('Enter stock ticker: ')\n",
    "start = input('Enter startdate in yyyy-mm-dd format or leave blank: ')\n",
    "end = input('Enter enddate in yyyy-mm-dd format or leave blank: ')\n",
    "data = yf.download(ticker,start=start, end=end)\n",
    "data"
   ]
  },
  {
   "cell_type": "code",
   "execution_count": 3,
   "metadata": {},
   "outputs": [
    {
     "name": "stderr",
     "output_type": "stream",
     "text": [
      "C:\\Users\\abued\\Anaconda3\\lib\\site-packages\\pandas\\plotting\\_matplotlib\\converter.py:103: FutureWarning: Using an implicitly registered datetime converter for a matplotlib plotting method. The converter was registered by pandas on import. Future versions of pandas will require you to explicitly register matplotlib converters.\n",
      "\n",
      "To register the converters:\n",
      "\t>>> from pandas.plotting import register_matplotlib_converters\n",
      "\t>>> register_matplotlib_converters()\n",
      "  warnings.warn(msg, FutureWarning)\n"
     ]
    },
    {
     "data": {
      "image/png": "[encoded data removed]",
      "text/plain": [
       "<Figure size 720x432 with 1 Axes>"
      ]
     },
     "metadata": {
      "needs_background": "light"
     },
     "output_type": "display_data"
    }
   ],
   "source": [
    "\n",
    "# Visualised the adjusted closing price history since 2010 \n",
    "plt.figure(figsize=(10,6))\n",
    "plt.title(\"Open Price History\")\n",
    "plt.plot(data['Open']) \n",
    "plt.xlabel('Dates')\n",
    "plt.ylabel('Open Price USD($)')\n",
    "plt.savefig(\"Images/adjustedclosingprice-model.png\")\n",
    "plt.show()\n"
   ]
  },
  {
   "cell_type": "code",
   "execution_count": 4,
   "metadata": {},
   "outputs": [
    {
     "data": {
      "text/plain": [
       "['Open', 'High', 'Low', 'Close', 'Adj Close', 'Volume']"
      ]
     },
     "execution_count": 4,
     "metadata": {},
     "output_type": "execute_result"
    }
   ],
   "source": [
    "# check column whether date column is also the index\n",
    "column_list = list(data)\n",
    "column_list"
   ]
  },
  {
   "cell_type": "code",
   "execution_count": 3,
   "metadata": {},
   "outputs": [],
   "source": [
    "# Save df to CSV to remove date column from being index column\n",
    "data.to_csv('data.csv', index=True)\n",
    "\n",
    "html_data = data.to_html()\n",
    "data.to_html('data.html')"
   ]
  },
  {
   "cell_type": "code",
   "execution_count": 5,
   "metadata": {},
   "outputs": [],
   "source": [
    "\n",
    "# Read the data from CSV into pandas dataframe\n",
    "data= pd.read_csv(\"data.csv\")\n"
   ]
  },
  {
   "cell_type": "code",
   "execution_count": 6,
   "metadata": {},
   "outputs": [],
   "source": [
    "# create a list to represent X and y variables(x=dependent i.e:dates and y=independent=open_prices)\n",
    "dates = []\n",
    "prices = []\n"
   ]
  },
  {
   "cell_type": "code",
   "execution_count": 7,
   "metadata": {},
   "outputs": [
    {
     "data": {
      "text/plain": [
       "(22, 7)"
      ]
     },
     "execution_count": 7,
     "metadata": {},
     "output_type": "execute_result"
    }
   ],
   "source": [
    "# Check how many rows and column is the df\n",
    "data.shape"
   ]
  },
  {
   "cell_type": "code",
   "execution_count": 8,
   "metadata": {},
   "outputs": [
    {
     "data": {
      "text/html": [
       "<div>\n",
       "<style scoped>\n",
       "    .dataframe tbody tr th:only-of-type {\n",
       "        vertical-align: middle;\n",
       "    }\n",
       "\n",
       "    .dataframe tbody tr th {\n",
       "        vertical-align: top;\n",
       "    }\n",
       "\n",
       "    .dataframe thead th {\n",
       "        text-align: right;\n",
       "    }\n",
       "</style>\n",
       "<table border=\"1\" class=\"dataframe\">\n",
       "  <thead>\n",
       "    <tr style=\"text-align: right;\">\n",
       "      <th></th>\n",
       "      <th>Date</th>\n",
       "      <th>Open</th>\n",
       "      <th>High</th>\n",
       "      <th>Low</th>\n",
       "      <th>Close</th>\n",
       "      <th>Adj Close</th>\n",
       "      <th>Volume</th>\n",
       "    </tr>\n",
       "  </thead>\n",
       "  <tbody>\n",
       "    <tr>\n",
       "      <td>21</td>\n",
       "      <td>2020-03-31</td>\n",
       "      <td>1964.349976</td>\n",
       "      <td>1993.02002</td>\n",
       "      <td>1944.01001</td>\n",
       "      <td>1949.719971</td>\n",
       "      <td>1949.719971</td>\n",
       "      <td>5123600</td>\n",
       "    </tr>\n",
       "  </tbody>\n",
       "</table>\n",
       "</div>"
      ],
      "text/plain": [
       "          Date         Open        High         Low        Close    Adj Close  \\\n",
       "21  2020-03-31  1964.349976  1993.02002  1944.01001  1949.719971  1949.719971   \n",
       "\n",
       "     Volume  \n",
       "21  5123600  "
      ]
     },
     "execution_count": 8,
     "metadata": {},
     "output_type": "execute_result"
    }
   ],
   "source": [
    "# This is the last row of the dataset which the models will be tested on\n",
    "data.tail(1)"
   ]
  },
  {
   "cell_type": "code",
   "execution_count": 9,
   "metadata": {},
   "outputs": [],
   "source": [
    "data = data.head(len(data)-1)"
   ]
  },
  {
   "cell_type": "code",
   "execution_count": 10,
   "metadata": {},
   "outputs": [
    {
     "data": {
      "text/plain": [
       "(21, 7)"
      ]
     },
     "execution_count": 10,
     "metadata": {},
     "output_type": "execute_result"
    }
   ],
   "source": [
    "data.shape"
   ]
  },
  {
   "cell_type": "code",
   "execution_count": 11,
   "metadata": {},
   "outputs": [],
   "source": [
    "data_dates = data.loc[:,'Date']\n",
    "data_open = data.loc[:,'Open']"
   ]
  },
  {
   "cell_type": "code",
   "execution_count": 12,
   "metadata": {},
   "outputs": [],
   "source": [
    "for date in data_dates:\n",
    "    dates.append([int(date.split('-')[2])])\n",
    "for open_price in data_open:\n",
    "    prices.append(float(open_price))"
   ]
  },
  {
   "cell_type": "code",
   "execution_count": 16,
   "metadata": {},
   "outputs": [
    {
     "name": "stdout",
     "output_type": "stream",
     "text": [
      "[[2], [3], [4], [5], [6], [9], [10], [11], [12], [13], [16], [17], [18], [19], [20], [23], [24], [25], [26], [27], [30]] [1906.489990234375, 1975.3699951171875, 1946.5699462890625, 1933.0, 1875.0, 1773.8599853515625, 1870.8800048828125, 1857.8499755859373, 1721.97998046875, 1755.0, 1641.510009765625, 1775.469970703125, 1750.0, 1860.0, 1926.31005859375, 1827.75, 1951.5, 1920.68994140625, 1902.0, 1930.8599853515625, 1922.8299560546875]\n"
     ]
    }
   ],
   "source": [
    "print(dates,prices)\n"
   ]
  },
  {
   "cell_type": "code",
   "execution_count": 13,
   "metadata": {},
   "outputs": [],
   "source": [
    "# This is the function to make the prediction with 3 support vector regression models\n",
    "def predict_prices(dates,prices, x):\n",
    "    svr_rbf = SVR(kernel='rbf', C=100, gamma=0.1, epsilon=.1)\n",
    "    svr_lin = SVR(kernel='linear', C=100, gamma='scale')\n",
    "    svr_poly = SVR(kernel='poly', C=100, gamma='scale', degree=3, epsilon=.1,\n",
    "               coef0=1)\n",
    "    \n",
    "#Train the models on dates and prices   \n",
    "    svr_lin.fit(dates,prices)\n",
    "    svr_poly.fit(dates,prices)\n",
    "    svr_rbf.fit(dates,prices)\n",
    "# Plot the 3 models and find the best fit \n",
    "    plt.scatter(dates, prices, color ='black', label = 'Data')\n",
    "    plt.plot(dates,svr_lin.predict(dates), color = 'green', label = 'Linear Model')\n",
    "    plt.plot(dates,svr_poly.predict(dates),color = 'blue', label = 'Polynomial Model')\n",
    "    plt.plot(dates,svr_rbf.predict(dates),color = 'red', label = 'RBF Model')\n",
    "    plt.xlabel('date')\n",
    "    plt.ylabel('price (USD$)')\n",
    "    plt.title('support Vector regression')\n",
    "    plt.legend()\n",
    "    plt.savefig(\"Images/3SVR-models.png\")\n",
    "    plt.show\n",
    "    return svr_lin.predict(x)[0],svr_rbf.predict(x)[0],svr_poly.predict(x)[0]\n",
    "\n",
    "\n"
   ]
  },
  {
   "cell_type": "code",
   "execution_count": 14,
   "metadata": {},
   "outputs": [
    {
     "name": "stdout",
     "output_type": "stream",
     "text": [
      "(1908.6500000000322, 1910.508164163097, 2096.386910981095)\n"
     ]
    },
    {
     "data": {
      "image/png": "[encoded data removed]",
      "text/plain": [
       "<Figure size 432x288 with 1 Axes>"
      ]
     },
     "metadata": {
      "needs_background": "light"
     },
     "output_type": "display_data"
    }
   ],
   "source": [
    "# Predict day 31st of march Amazon stock price\n",
    "predicted_price = predict_prices(dates, prices,[[31]])\n",
    "print(predicted_price)"
   ]
  },
  {
   "cell_type": "code",
   "execution_count": 15,
   "metadata": {},
   "outputs": [],
   "source": [
    "def predict_prices(dates,prices, x):\n",
    "    svr_rbf = SVR(kernel='rbf', C=100, gamma=0.1, epsilon=.1)\n",
    "    svr_rbf.fit(dates,prices)\n",
    "    plt.scatter(dates, prices, color = 'black', label = 'Data')\n",
    "    plt.plot(dates,svr_rbf.predict(dates),color = 'red', label = 'RBF Model')\n",
    "    plt.title('SVR-Radial Basis Function (RBF) Model')\n",
    "    plt.xlabel('date')\n",
    "    plt.ylabel('price (USD$)')\n",
    "    plt.legend()\n",
    "    plt.savefig(\"Images/RBF-model.png\")\n",
    "    plt.show()\n",
    "    return svr_rbf.predict(x)[0]\n"
   ]
  },
  {
   "cell_type": "code",
   "execution_count": 16,
   "metadata": {},
   "outputs": [
    {
     "name": "stdout",
     "output_type": "stream",
     "text": [
      "RBF regression R-square =  0.759871821406584\n"
     ]
    }
   ],
   "source": [
    "svr_rbf = SVR(kernel='rbf', C=100, gamma=0.1, epsilon=.1)\n",
    "svr_rbf.fit(dates,prices)\n",
    "R_square= svr_rbf.score(dates, prices)\n",
    "print(\"RBF regression R-square = \",R_square)"
   ]
  },
  {
   "cell_type": "code",
   "execution_count": 17,
   "metadata": {
    "scrolled": true
   },
   "outputs": [
    {
     "data": {
      "image/png": "[encoded data removed]",
      "text/plain": [
       "<Figure size 432x288 with 1 Axes>"
      ]
     },
     "metadata": {
      "needs_background": "light"
     },
     "output_type": "display_data"
    },
    {
     "name": "stdout",
     "output_type": "stream",
     "text": [
      "The predicted last day open price: USD$ 1910.508164163097\n"
     ]
    }
   ],
   "source": [
    "predicted_price = predict_prices(dates, prices,[[31]])\n",
    "print(\"The predicted last day open price: USD$\",predicted_price)\n",
    "\n"
   ]
  },
  {
   "cell_type": "code",
   "execution_count": 22,
   "metadata": {},
   "outputs": [],
   "source": [
    "def predict_prices(dates,prices, x):\n",
    "    svr_lin = SVR(kernel='linear', C=100, gamma='scale')\n",
    "    \n",
    "#Train the models on dates and prices   \n",
    "    svr_lin.fit(dates,prices)\n",
    "    plt.scatter(dates, prices, color = 'black', label = 'Data')\n",
    "    plt.plot(dates,svr_lin.predict(dates), color = 'magenta', label = 'Linear Model')\n",
    "    plt.title('SVR Linear Regression Model')\n",
    "    plt.xlabel('date')\n",
    "    plt.ylabel('price (USD$)')\n",
    "    plt.legend()\n",
    "    plt.savefig(\"Images/Linear-model.png\")\n",
    "    plt.show()\n",
    "    return svr_lin.predict(x)[0]\n",
    "\n",
    "    "
   ]
  },
  {
   "cell_type": "code",
   "execution_count": 23,
   "metadata": {},
   "outputs": [
    {
     "name": "stdout",
     "output_type": "stream",
     "text": [
      "Linear regression R-square =  -0.12102918330413459\n"
     ]
    }
   ],
   "source": [
    "svr_lin = SVR(kernel='linear', C=100, gamma='scale')\n",
    "svr_lin.fit(dates,prices)\n",
    "R_square= svr_lin.score(dates, prices)\n",
    "print(\"Linear regression R-square = \",R_square)"
   ]
  },
  {
   "cell_type": "code",
   "execution_count": 24,
   "metadata": {},
   "outputs": [
    {
     "data": {
      "image/png": "[encoded data removed]",
      "text/plain": [
       "<Figure size 432x288 with 1 Axes>"
      ]
     },
     "metadata": {
      "needs_background": "light"
     },
     "output_type": "display_data"
    },
    {
     "name": "stdout",
     "output_type": "stream",
     "text": [
      "The predicted last day open price: USD$ 1908.6500000000322\n"
     ]
    }
   ],
   "source": [
    "\n",
    "predicted_price = predict_prices(dates, prices,[[31]])\n",
    "print(\"The predicted last day open price: USD$\",predicted_price)"
   ]
  },
  {
   "cell_type": "code",
   "execution_count": 25,
   "metadata": {},
   "outputs": [],
   "source": [
    "def predict_prices(dates,prices, x):\n",
    "    svr_poly = SVR(kernel='poly', C=100, gamma='scale', degree=3, epsilon=.1,\n",
    "               coef0=1)\n",
    "    \n",
    "#Train the models on dates and prices   \n",
    "    svr_poly.fit(dates,prices)\n",
    "    plt.scatter(dates, prices, color = 'black', label = 'Data')\n",
    "    plt.plot(dates,svr_poly.predict(dates),color = 'blue', label = 'Polynomial Model')\n",
    "    plt.title('SVR-Polynomial Model')\n",
    "    plt.xlabel('date')\n",
    "    plt.ylabel('price USD$')\n",
    "    plt.legend()\n",
    "    plt.savefig(\"Images/Polynomial-model.png\")\n",
    "    plt.show()\n",
    "    return svr_poly.predict(x)[0]"
   ]
  },
  {
   "cell_type": "code",
   "execution_count": 26,
   "metadata": {},
   "outputs": [
    {
     "data": {
      "image/png": "[encoded data removed]",
      "text/plain": [
       "<Figure size 432x288 with 1 Axes>"
      ]
     },
     "metadata": {
      "needs_background": "light"
     },
     "output_type": "display_data"
    },
    {
     "name": "stdout",
     "output_type": "stream",
     "text": [
      "The predicted last day open price: USD$ 2096.386910981095\n"
     ]
    }
   ],
   "source": [
    "\n",
    "predicted_price = predict_prices(dates, prices,[[31]])\n",
    "print(\"The predicted last day open price: USD$\",predicted_price)\n"
   ]
  },
  {
   "cell_type": "code",
   "execution_count": 27,
   "metadata": {},
   "outputs": [
    {
     "name": "stdout",
     "output_type": "stream",
     "text": [
      "Polynomial regression R-square =  0.41375895743467533\n"
     ]
    }
   ],
   "source": [
    "svr_poly = SVR(kernel='poly', C=100, gamma='scale', degree=3, epsilon=.1,\n",
    "               coef0=1)\n",
    "svr_poly.fit(dates,prices)\n",
    "R_square= svr_poly.score(dates, prices)\n",
    "print(\"Polynomial regression R-square = \",R_square)\n"
   ]
  },
  {
   "cell_type": "code",
   "execution_count": null,
   "metadata": {},
   "outputs": [],
   "source": []
  }
 ],
 "metadata": {
  "kernelspec": {
   "display_name": "Python 3",
   "language": "python",
   "name": "python3"
  },
  "language_info": {
   "codemirror_mode": {
    "name": "ipython",
    "version": 3
   },
   "file_extension": ".py",
   "mimetype": "text/x-python",
   "name": "python",
   "nbconvert_exporter": "python",
   "pygments_lexer": "ipython3",
   "version": "3.7.4"
  }
 },
 "nbformat": 4,
 "nbformat_minor": 2
}
